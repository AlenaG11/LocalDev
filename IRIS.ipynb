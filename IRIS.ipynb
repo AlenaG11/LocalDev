{
 "cells": [
  {
   "cell_type": "markdown",
   "id": "6bdfa4a1",
   "metadata": {},
   "source": [
    "LEARN ABOUT IRIS"
   ]
  },
  {
   "cell_type": "code",
   "execution_count": null,
   "id": "97a0aed8",
   "metadata": {},
   "outputs": [],
   "source": [
    "# IMPORT THE DATA (CLEAN is NOT NECESSARY)\n",
    "# import load_iris from sklearn library\n",
    "\n",
    "import pandas as pd\n",
    "from sklearn.datasets import load_iris\n",
    "iris = load_iris()\n",
    "\n",
    "import seaborn as sns\n",
    "%matplotlib inline"
   ]
  },
  {
   "cell_type": "code",
   "execution_count": null,
   "id": "32e2248a",
   "metadata": {},
   "outputs": [],
   "source": [
    "x = iris.data\n",
    "y = iris.target\n",
    "print(x)\n",
    "print(y)\n"
   ]
  },
  {
   "cell_type": "code",
   "execution_count": null,
   "id": "23495f99",
   "metadata": {},
   "outputs": [],
   "source": [
    "#print out feature_names and target_names - both come pre-built with sklearn\n",
    "\n",
    "feature_names = iris.feature_names\n",
    "target_names = iris.target_names\n",
    "print(feature_names)\n",
    "print(target_names)"
   ]
  },
  {
   "cell_type": "code",
   "execution_count": null,
   "id": "4f3cc79f",
   "metadata": {},
   "outputs": [],
   "source": [
    "#print out type of x and y\n",
    "type(x)"
   ]
  },
  {
   "cell_type": "code",
   "execution_count": null,
   "id": "6859e503",
   "metadata": {},
   "outputs": [],
   "source": [
    "len(x)"
   ]
  },
  {
   "cell_type": "code",
   "execution_count": null,
   "id": "8e8044f6",
   "metadata": {},
   "outputs": [],
   "source": [
    "len(y)"
   ]
  },
  {
   "cell_type": "code",
   "execution_count": null,
   "id": "67a17380",
   "metadata": {},
   "outputs": [],
   "source": [
    "# SPLIT DATA\n",
    "\n",
    "#split the data into train and test sets (train_test_split splits array randomly into train and test sets)\n",
    "from sklearn.model_selection import train_test_split\n",
    "x_train, x_test,y_train,y_test = train_test_split(x,y,test_size = 0.4)\n",
    "\n",
    "print(x_train.shape)\n",
    "print(x_test.shape)"
   ]
  },
  {
   "cell_type": "code",
   "execution_count": null,
   "id": "05975221",
   "metadata": {},
   "outputs": [],
   "source": [
    "# CREATE A MODEL\n",
    "# import from sklearn algorithms that create a model.  Choose 'neighbors'\n",
    "from sklearn.neighbors import KNeighborsClassifier\n",
    "\n",
    "# create the model; attempt \n",
    "knn = KNeighborsClassifier(n_neighbors = 3)  \n",
    "# fit the model on the train set\n",
    "knn.fit(x_train,y_train)\n",
    "\n",
    "#create prediction for the test set\n",
    "y_pred = knn.predict(x_test)"
   ]
  },
  {
   "cell_type": "code",
   "execution_count": null,
   "id": "9217e8df",
   "metadata": {},
   "outputs": [],
   "source": [
    "# TEST the OUTPUT\n",
    "# check results: compare prediction for the test set with actual test set target data\n",
    "\n",
    "from sklearn import metrics\n",
    "print(metrics.accuracy_score(y_test, y_pred))\n"
   ]
  },
  {
   "cell_type": "code",
   "execution_count": null,
   "id": "c3f0c790",
   "metadata": {},
   "outputs": [],
   "source": [
    "# IMPROVE the MODEL\n",
    "# aim for right balance between test and train sets size\n",
    "# change the number of n_neighbors\n",
    "# possibly, have more features\n",
    "# possibly, use different model\n",
    "# as an example, use another model: DecisionTreeClassifier\n",
    "\n",
    "#from sklearn.neighbors import RadiusNeighborsClassifier\n",
    "#rnc = RadiusNeighborsClassifier()\n",
    "\n",
    "######### fit the model with train data set\n",
    "#rnc.fit(x_train, y_train)\n",
    "\n",
    "######### make prediction for the test set\n",
    "#y_pred = rnc.predict(x_test)"
   ]
  },
  {
   "cell_type": "code",
   "execution_count": null,
   "id": "8f4e8521",
   "metadata": {},
   "outputs": [],
   "source": [
    "# TEST the OUTPUT\n",
    "print(metrics.accuracy_score(y_test, y_pred))\n",
    "\n",
    "## Radius Neighbors Classifier gets us worse result"
   ]
  },
  {
   "cell_type": "code",
   "execution_count": null,
   "id": "4af800b2",
   "metadata": {},
   "outputs": [],
   "source": [
    "# One more model: decision tree classifier from sklearn.tree:\n",
    "from sklearn.tree import DecisionTreeClassifier\n",
    "dtc = DecisionTreeClassifier()\n",
    "# fit the model with train data set\n",
    "dtc.fit(x_train, y_train)\n",
    "\n",
    "# make a prediction for the test data set\n",
    "y_pred = dtc.predict(x_test)"
   ]
  },
  {
   "cell_type": "code",
   "execution_count": null,
   "id": "9a8dae10",
   "metadata": {},
   "outputs": [],
   "source": [
    "# TEST the OUTPUT\n",
    "print(metrics.accuracy_score(y_test, y_pred))"
   ]
  },
  {
   "cell_type": "code",
   "execution_count": null,
   "id": "4aad52d5",
   "metadata": {},
   "outputs": [],
   "source": [
    "# TEST the model on a new sample of data:\n",
    "sample = [[3,5,4,2],[2,3,5,4]]\n",
    "predictions = knn.predict(sample)\n",
    "print(predictions)\n",
    "predict_species = [iris.target_names[p] for p in predictions]\n",
    "print(\"predictions: \", predict_species)\n",
    "print(f\"Predictions: {predict_species}\")"
   ]
  },
  {
   "cell_type": "code",
   "execution_count": null,
   "id": "8687fcd6",
   "metadata": {},
   "outputs": [],
   "source": [
    "# Concept of model persistence: keep using and reusing the same existing model:\n",
    "# the solution is save (dump) model using joblib library, then load it when needed\n",
    "\n",
    "from joblib import dump, load\n",
    "model = dump(knn, 'mlbrain.joblib')  # this creates mlbrain.joblib file in the same foler as our notebook\n",
    "\n",
    "# the file can be reused next time when model is needed\n",
    "\n",
    "retreived_model = load('mlbrain.joblib')"
   ]
  },
  {
   "cell_type": "code",
   "execution_count": null,
   "id": "e7bf3a42",
   "metadata": {},
   "outputs": [],
   "source": [
    "# Our retrieved model can be used once again, for predictions.  Test it once again:\n",
    "\n",
    "predictions = retreived_model.predict(sample)\n",
    "predict_species = [iris.target_names[p] for p in predictions]\n",
    "print(f\"Predictions: {predict_species}\")\n",
    "\n",
    "# As we see, the result is the same"
   ]
  },
  {
   "cell_type": "code",
   "execution_count": null,
   "id": "30d6544f",
   "metadata": {},
   "outputs": [],
   "source": []
  }
 ],
 "metadata": {
  "kernelspec": {
   "display_name": "Python 3 (ipykernel)",
   "language": "python",
   "name": "python3"
  },
  "language_info": {
   "codemirror_mode": {
    "name": "ipython",
    "version": 3
   },
   "file_extension": ".py",
   "mimetype": "text/x-python",
   "name": "python",
   "nbconvert_exporter": "python",
   "pygments_lexer": "ipython3",
   "version": "3.9.7"
  }
 },
 "nbformat": 4,
 "nbformat_minor": 5
}
