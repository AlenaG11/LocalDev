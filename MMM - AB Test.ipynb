{
 "cells": [
  {
   "cell_type": "markdown",
   "id": "b48b7e67",
   "metadata": {},
   "source": [
    "#### Marketing Mix Modeling: A/B Testing marketing campaigns for revenue\n",
    "\n",
    "This model is part of a series of Marketing Mix Models.  The retail client for whom the testing was done ran multiple marketing campaigns, which in some cases resulted in noticeably different revenue. Campaigns were run for approximately the same time and were of the same duration.  The question we tried to answer was if it was truly the message (and offer) of campaigns that made some of them more compelling than others. That is, the purpose is to find out if the difference in revenue produced by two different marketing campaigns is statistically significant, i.e., not due just to random chance. \n",
    "\n",
    "For this project, I tested 26 segements of customer population. The segements, reflecting geographical, demographic and financial information, were randomly split into two groups: one group was receiving offer A and another group receiving offer B. Then, to compare the differences in resulting revenues, I ran a T-test for the difference of the means."
   ]
  },
  {
   "cell_type": "code",
   "execution_count": 13,
   "id": "9e1d1a18",
   "metadata": {},
   "outputs": [],
   "source": [
    "import pandas as pd\n",
    "import numpy as np\n",
    "from scipy import stats as st\n",
    "from math import sqrt"
   ]
  },
  {
   "cell_type": "markdown",
   "id": "8aff1c33-4aca-4984-8aff-ce4175945c64",
   "metadata": {},
   "source": [
    "##### 1. Read the data"
   ]
  },
  {
   "cell_type": "code",
   "execution_count": 69,
   "id": "8eb3f96a-72c0-435a-bd63-d1dd139fbfc2",
   "metadata": {},
   "outputs": [],
   "source": [
    "df = pd.read_csv(\"T-Test Data.csv\")"
   ]
  },
  {
   "cell_type": "code",
   "execution_count": 71,
   "id": "3bdab74b-8d3e-43b4-b654-8a272d988b9b",
   "metadata": {},
   "outputs": [
    {
     "data": {
      "text/html": [
       "<div>\n",
       "<style scoped>\n",
       "    .dataframe tbody tr th:only-of-type {\n",
       "        vertical-align: middle;\n",
       "    }\n",
       "\n",
       "    .dataframe tbody tr th {\n",
       "        vertical-align: top;\n",
       "    }\n",
       "\n",
       "    .dataframe thead th {\n",
       "        text-align: right;\n",
       "    }\n",
       "</style>\n",
       "<table border=\"1\" class=\"dataframe\">\n",
       "  <thead>\n",
       "    <tr style=\"text-align: right;\">\n",
       "      <th></th>\n",
       "      <th>Rev_A</th>\n",
       "      <th>Rev_B</th>\n",
       "    </tr>\n",
       "  </thead>\n",
       "  <tbody>\n",
       "    <tr>\n",
       "      <th>0</th>\n",
       "      <td>10304.369941</td>\n",
       "      <td>14333.879902</td>\n",
       "    </tr>\n",
       "    <tr>\n",
       "      <th>1</th>\n",
       "      <td>9759.209913</td>\n",
       "      <td>10107.659952</td>\n",
       "    </tr>\n",
       "    <tr>\n",
       "      <th>2</th>\n",
       "      <td>12420.849965</td>\n",
       "      <td>7452.569997</td>\n",
       "    </tr>\n",
       "    <tr>\n",
       "      <th>3</th>\n",
       "      <td>9672.369977</td>\n",
       "      <td>11695.009921</td>\n",
       "    </tr>\n",
       "    <tr>\n",
       "      <th>4</th>\n",
       "      <td>13675.789897</td>\n",
       "      <td>26398.599864</td>\n",
       "    </tr>\n",
       "  </tbody>\n",
       "</table>\n",
       "</div>"
      ],
      "text/plain": [
       "          Rev_A         Rev_B\n",
       "0  10304.369941  14333.879902\n",
       "1   9759.209913  10107.659952\n",
       "2  12420.849965   7452.569997\n",
       "3   9672.369977  11695.009921\n",
       "4  13675.789897  26398.599864"
      ]
     },
     "execution_count": 71,
     "metadata": {},
     "output_type": "execute_result"
    }
   ],
   "source": [
    "df.head()"
   ]
  },
  {
   "cell_type": "markdown",
   "id": "87193dc1-51bc-4b83-a111-a62df6cbda99",
   "metadata": {},
   "source": [
    "##### 2. Compute Mean and Variance"
   ]
  },
  {
   "cell_type": "code",
   "execution_count": 75,
   "id": "c54b7fc6",
   "metadata": {
    "scrolled": true
   },
   "outputs": [
    {
     "name": "stdout",
     "output_type": "stream",
     "text": [
      "Mean of Campaign_A Revenue: $12790.68\n",
      "Mean of Campaign_B Revenue: $19798.09\n"
     ]
    }
   ],
   "source": [
    "# Print out Means for FS70 and FS60 Revenues:\n",
    "mean1,mean2 = np.mean(df, axis = 0)\n",
    "print(f'Mean of Campaign_A Revenue: ${mean1:.2f}\\nMean of Campaign_B Revenue: ${mean2:.2f}')"
   ]
  },
  {
   "cell_type": "code",
   "execution_count": 95,
   "id": "3dd4a972",
   "metadata": {
    "scrolled": true
   },
   "outputs": [
    {
     "name": "stdout",
     "output_type": "stream",
     "text": [
      "Variance of Campaign_A Revenue: $7531209.65\n",
      "Variance of Campaign_B Revenue: $79452509.61\n"
     ]
    }
   ],
   "source": [
    "# Print out Variances for Rev_A and Rev_B; set delta degree of freedom (ddof) to 1 as we calculate the mean variance \n",
    "# of sample, not the whole population.\n",
    "var1,var2 = np.var(df, axis = 0, ddof = 1)\n",
    "print(f'Variance of Campaign_A Revenue: ${var1:.2f}\\nVariance of Campaign_B Revenue: ${var2:.2f}')\n"
   ]
  },
  {
   "cell_type": "markdown",
   "id": "adee9a03",
   "metadata": {},
   "source": [
    "Since variances for Campaign_A and Campaign_B are significantly unequal, to compare the means, I will use Welch's test (T-test for samples with unequal variance).\n"
   ]
  },
  {
   "cell_type": "markdown",
   "id": "9d85c1d8-5c1b-4b51-9880-865ab63ded3a",
   "metadata": {},
   "source": [
    "##### 3. Run Welch's Test"
   ]
  },
  {
   "cell_type": "code",
   "execution_count": 163,
   "id": "ed8a07dd",
   "metadata": {
    "scrolled": true
   },
   "outputs": [
    {
     "name": "stdout",
     "output_type": "stream",
     "text": [
      "Test Statistic: -3.831120\n",
      "P-value: 0.000614\n"
     ]
    }
   ],
   "source": [
    "# Run T-test to compare Rev_A and Rev_B\n",
    "# testing for two-sided alternative (mean of Rev_B either less or greater than that of Rev_A)\n",
    "t_statistic,p_value = st.ttest_ind(df['Rev_A'], df['Rev_B'], equal_var = False, alternative = 'two-sided') \n",
    "\n",
    "print(f'Test Statistic: {t_statistic:.6f}')\n",
    "print(f'P-value: {p_value:.6f}')"
   ]
  },
  {
   "attachments": {},
   "cell_type": "markdown",
   "id": "9592c760",
   "metadata": {},
   "source": [
    "Compute pooled degrees of freedom for variables with unequal variance, find the critical t-value and evaluate test statistic:\n",
    "\n",
    "$$Pooled.Degrees.Of.Freedom =\\frac{(var1/n + var2/n)^2}{\\frac{(var1/n)^2}{n-1} + \\frac{(var2/n)^2}{n-1}}$$, where $n$ is the sample size, and $var1$ and $var2$ are variances of the variables.\n"
   ]
  },
  {
   "cell_type": "code",
   "execution_count": 130,
   "id": "d5ac3c27",
   "metadata": {},
   "outputs": [
    {
     "name": "stdout",
     "output_type": "stream",
     "text": [
      "Pooled degrees of freedom: 29.70\n",
      "Critical t-value: 2.043146\n",
      "Alpha: 0.05\n"
     ]
    }
   ],
   "source": [
    "# compute degrees of freedom for Rev_A and Rev_B, where n is a sample size:\n",
    "n = df.shape[0]    ## sample size\n",
    "alpha = 0.05\n",
    "\n",
    "d_of_f = (var1/n + var2/n)**2/((var1/n)**2/(n-1) +(var2/n)**2/(n-1))\n",
    "\n",
    "print(f'Pooled degrees of freedom: {d_of_f:.2f}')\n",
    "\n",
    "# find T-critical value for two-tailed test with significance level alpha = 0.5, degrees of freedom found above (d_of_f)\n",
    "t_critical = st.t.ppf(q = 1- alpha/2, df = d_of_f)\n",
    "print(f'Critical t-value: {t_critical:.6f}')\n",
    "print(f'Alpha: {alpha:.2f}')"
   ]
  },
  {
   "cell_type": "markdown",
   "id": "c882e739",
   "metadata": {},
   "source": [
    "The absolute value of our test statistic is greater than the critical t-value.  The probability associated with it (p-value of the test) is very small, much smaller than $alpha$, indicating the difference is statistically significant."
   ]
  },
  {
   "cell_type": "markdown",
   "id": "226a8bef",
   "metadata": {},
   "source": [
    "##### 4. Compute Confidence Intervals\n",
    "\n",
    "Use critical t-value to compute margin and find confidence intervals for the effect (difference in means):\n",
    "$$st.error = \\sqrt{\\frac{var1}{n} + \\frac{var2}{n}}$$\n",
    "$$margin = st.error * t.critical$$\n",
    "$$CFhigh = effect + margin$$\n",
    "$$CFlow = effect - margin$$\n"
   ]
  },
  {
   "cell_type": "code",
   "execution_count": 179,
   "id": "00fde3f9",
   "metadata": {},
   "outputs": [],
   "source": [
    "# Compute difference in means:\n",
    "effect = mean2 - mean1\n",
    "\n",
    "# Compute pooled standard error:\n",
    "st_error = sqrt(var1/n + var2/n)\n",
    "\n",
    "# Compute margin:\n",
    "margin = st_error * t_critical\n",
    "\n",
    "#Compute Confidence Intervals\n",
    "CI_low = effect - margin\n",
    "CI_hi = effect + margin\n"
   ]
  },
  {
   "cell_type": "code",
   "execution_count": 181,
   "id": "d947a4ee",
   "metadata": {},
   "outputs": [],
   "source": [
    "# Intialize empty frame with column names:\n",
    "col_names = ['T-Statistic','P-value','T-Critical','Alpha','Effect', 'Lower CI','Higher CI']\n",
    "test_df = pd.DataFrame(columns = col_names)\n"
   ]
  },
  {
   "cell_type": "code",
   "execution_count": 183,
   "id": "34042437",
   "metadata": {},
   "outputs": [
    {
     "data": {
      "text/html": [
       "<div>\n",
       "<style scoped>\n",
       "    .dataframe tbody tr th:only-of-type {\n",
       "        vertical-align: middle;\n",
       "    }\n",
       "\n",
       "    .dataframe tbody tr th {\n",
       "        vertical-align: top;\n",
       "    }\n",
       "\n",
       "    .dataframe thead th {\n",
       "        text-align: right;\n",
       "    }\n",
       "</style>\n",
       "<table border=\"1\" class=\"dataframe\">\n",
       "  <thead>\n",
       "    <tr style=\"text-align: right;\">\n",
       "      <th></th>\n",
       "      <th>T-Statistic</th>\n",
       "      <th>P-value</th>\n",
       "      <th>T-Critical</th>\n",
       "      <th>Alpha</th>\n",
       "      <th>Effect</th>\n",
       "      <th>Lower CI</th>\n",
       "      <th>Higher CI</th>\n",
       "    </tr>\n",
       "  </thead>\n",
       "  <tbody>\n",
       "    <tr>\n",
       "      <th>0</th>\n",
       "      <td>-3.8311</td>\n",
       "      <td>0.0006</td>\n",
       "      <td>2.0431</td>\n",
       "      <td>0.05</td>\n",
       "      <td>7007.42</td>\n",
       "      <td>3270.34</td>\n",
       "      <td>10744.49</td>\n",
       "    </tr>\n",
       "  </tbody>\n",
       "</table>\n",
       "</div>"
      ],
      "text/plain": [
       "   T-Statistic  P-value  T-Critical  Alpha   Effect  Lower CI  Higher CI\n",
       "0      -3.8311   0.0006      2.0431   0.05  7007.42   3270.34   10744.49"
      ]
     },
     "execution_count": 183,
     "metadata": {},
     "output_type": "execute_result"
    }
   ],
   "source": [
    "# add records to the data frame using .loc method - adding to the next row, which is gotton by using len(df)\n",
    "test_df.loc[len] = [round(t_statistic,4),round(p_value,4),round(t_critical,4), alpha,round(effect,2), round(CI_low,2), round(CI_hi,2)]\n",
    "test_df"
   ]
  },
  {
   "cell_type": "markdown",
   "id": "0fbedd49-b637-4ab2-97b9-75dffeda430e",
   "metadata": {},
   "source": [
    "##### 5. Conclusion\n",
    "The effect - the difference of mean revenue for the two marketing campaigns - was NOT due to chance, i.e. it was statistically signficant.  The account manager was advised that using Campaign 'B' was resulting in a better response from the customer base."
   ]
  },
  {
   "cell_type": "code",
   "execution_count": null,
   "id": "53e6d15e-dd8f-4da5-8933-183c3e827340",
   "metadata": {},
   "outputs": [],
   "source": []
  }
 ],
 "metadata": {
  "kernelspec": {
   "display_name": "Python 3 (ipykernel)",
   "language": "python",
   "name": "python3"
  },
  "language_info": {
   "codemirror_mode": {
    "name": "ipython",
    "version": 3
   },
   "file_extension": ".py",
   "mimetype": "text/x-python",
   "name": "python",
   "nbconvert_exporter": "python",
   "pygments_lexer": "ipython3",
   "version": "3.9.19"
  }
 },
 "nbformat": 4,
 "nbformat_minor": 5
}
